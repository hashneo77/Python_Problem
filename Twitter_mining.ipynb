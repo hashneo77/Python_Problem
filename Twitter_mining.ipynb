{
 "cells": [
  {
   "cell_type": "code",
   "execution_count": 22,
   "metadata": {},
   "outputs": [],
   "source": [
    "import tweepy\n",
    "import json\n",
    "from pandas.io.json import json_normalize"
   ]
  },
  {
   "cell_type": "code",
   "execution_count": 23,
   "metadata": {
    "scrolled": true
   },
   "outputs": [],
   "source": [
    "consumer_key = \"X\" \n",
    "consumer_secret = \"X\"\n",
    "access_key = \"X-X\"\n",
    "access_secret = \"X\""
   ]
  },
  {
   "cell_type": "code",
   "execution_count": 24,
   "metadata": {},
   "outputs": [
    {
     "name": "stdout",
     "output_type": "stream",
     "text": [
      "We have emailed the task details to all candidates who have applied to @midasIIITD internship through IIITD portal.… https://t.co/gZwyr7D2Sw Fri Apr 05 16:08:37 +0000 2019 1 7\n",
      "RT @rfpvjr: Our NAACL paper on polarization in language on Twitter surrounding mass shootings is up on arXiv! https://t.co/g7wiegXxDg\n",
      "This… Fri Apr 05 04:05:11 +0000 2019 16 0\n",
      "RT @kdnuggets: Effective Transfer Learning For NLP https://t.co/Z1m0AzlfVv https://t.co/ccX4Uhxjn8 Fri Apr 05 04:04:43 +0000 2019 10 0\n",
      "RT @stanfordnlp: What’s new in @Stanford CS224N Natural Language Processing with Deep Learning for 2019? Question answering—1D CNNs—subword… Wed Apr 03 18:31:53 +0000 2019 55 0\n",
      "RT @DeepMindAI: Today we're releasing a large-scale extendable dataset of mathematical questions, for training (and evaluating the abilitie… Wed Apr 03 17:04:32 +0000 2019 841 0\n",
      "RT @ylecun: Congratulations Jitendra Malik !\n",
      "\n",
      "Awards are raining on FAIRies these days... https://t.co/1WNcSeQLZe Wed Apr 03 09:03:40 +0000 2019 16 0\n",
      "RT @IIITDelhi: Another chance to take admission in the Ph.D. program in IIIT Delhi. \n",
      "Admissions open for Ph.D. program mathematics \n",
      "\n",
      "Log on… Wed Apr 03 07:46:02 +0000 2019 4 0\n",
      "Dear @midasIIITD internship candidates who have submitted their solutions to the task, we have sent you an email re… https://t.co/4lCcAmwBKc Tue Apr 02 04:20:13 +0000 2019 1 8\n",
      "Looking forward to your paper submission to @IEEEBigMM19. \n",
      "\n",
      "Important Dates:\n",
      "Regular Paper: 11:59pm PST, May 10, 20… https://t.co/ODYKLC8z0s Tue Apr 02 02:44:54 +0000 2019 1 5\n",
      "RT @ngrams: Reproducibility in multimedia research in @sigmm records https://t.co/hOyMxtmy7A Plus reminder to past-year authors: Today 1 Ap… Tue Apr 02 02:35:44 +0000 2019 7 0\n",
      "Online application for https://t.co/DJFDrQsHZP. Admission 2019 at @IIITDelhi has been open\n",
      "\n",
      "Log on to know more and… https://t.co/iqmGyRn1R0 Mon Apr 01 06:53:08 +0000 2019 1 6\n",
      "RT @ACMMM19: A final reminder of the Reproducibility Track: Authors of 2017 and 2018 papers are invited to submit a short reproducibility p… Sun Mar 31 10:21:24 +0000 2019 10 0\n",
      "RT @isarth23: Thanks for the support and help @debanjanbhucs @RatnRajiv and @midasIIITD. It was a great learning experience! Glad to be par… Fri Mar 29 19:43:24 +0000 2019 2 0\n",
      "Since SemEval-2019 will be held June 6-7, 2019 in Minneapolis, USA, collocated with NAACL-HLT 2019, it will great s… https://t.co/Jrl1uSesPc Fri Mar 29 17:16:40 +0000 2019 1 9\n",
      "+@aggarwal_kartik.\n",
      "Congrats! Wish you many more success. Fri Mar 29 17:04:30 +0000 2019 0 2\n",
      "RT @aggarwal_kartik: Our work (@midasIIITD ) accepted at SemEval 2019 at @NAACLHLT : \"MIDAS at SemEval-2019 Task 9: Suggestion Mining from… Fri Mar 29 17:03:29 +0000 2019 1 0\n",
      "Congratulations! @midasIIITD team, @isarth23 @LaibaMehnaz @Simcyy @debanjanbhucs @RatnRajiv @the_dhumketu for getti… https://t.co/z8pT3ojhoP Fri Mar 29 17:02:24 +0000 2019 1 9\n",
      "@EEMLcommunity @radamihalcea too many deadlines coming, @ACMMM19 @IEEEBigMM19 @EEMLcommunity Fri Mar 29 05:35:22 +0000 2019 0 0\n",
      "RT @stanfordnlp: CS224N Natural Language Processing with Deep Learning 2019 @Stanford course videos by @chrmanning, @abigail_e_see &amp; guests… Thu Mar 28 16:55:01 +0000 2019 710 0\n",
      "RT @ylecun: Learn PyTorch by running on Google GPUs for free. https://t.co/pt038TMnWR Thu Mar 28 16:54:37 +0000 2019 157 0\n"
     ]
    }
   ],
   "source": [
    "#function to store as JSON \n",
    "def process_or_store(tweet):\n",
    "    y=json.dumps(tweet, indent=2)\n",
    "    j=json.loads(y)\n",
    "    parsing_json(j)\n",
    "    \n",
    "    \n",
    "#function to parse to show neccesary outputs   \n",
    "def parsing_json(k):\n",
    "    print(k['text'],k['created_at'],k['retweet_count'],k['favorite_count']) #printing only required values\n",
    "    #if'media_url' in j['entities']['media'].keys:\n",
    "       # print(j['entities']['media'][0]['media_url'])                #having some problem displaying media hence commented down.\n",
    "        \n",
    "\n",
    "# Function to extract tweets \n",
    "def get_tweets(username):  \n",
    "        # Authorization to consumer and access keys\n",
    "        auth = tweepy.OAuthHandler(consumer_key, consumer_secret) \n",
    "        auth.set_access_token(access_key, access_secret) \n",
    "        \n",
    "        # Calling api \n",
    "        api = tweepy.API(auth) \n",
    "        tweets = api.user_timeline(screen_name=username)\n",
    "        for tweet in tweets:\n",
    "            process_or_store(tweet._json)   \n",
    "            \n",
    "get_tweets('midasIIITD')"
   ]
  },
  {
   "cell_type": "code",
   "execution_count": null,
   "metadata": {},
   "outputs": [],
   "source": []
  }
 ],
 "metadata": {
  "kernelspec": {
   "display_name": "Python 3",
   "language": "python",
   "name": "python3"
  }
 },
 "nbformat": 4,
 "nbformat_minor": 2
}
