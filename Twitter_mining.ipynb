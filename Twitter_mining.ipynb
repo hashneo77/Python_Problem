{
 "cells": [
  {
   "cell_type": "code",
   "execution_count": 24,
   "metadata": {},
   "outputs": [],
   "source": [
    "import tweepy\n",
    "import json\n",
    "import pandas as pd\n",
    "from pandas.io.json import json_normalize "
   ]
  },
  {
   "cell_type": "code",
   "execution_count": 25,
   "metadata": {
    "scrolled": true
   },
   "outputs": [],
   "source": [
    "consumer_key = \"X\" \n",
    "consumer_secret = \"X\"\n",
    "access_key = \"X-X\"\n",
    "access_secret = \"X\""
   ]
  },
  {
   "cell_type": "code",
   "execution_count": null,
   "metadata": {},
   "outputs": [],
   "source": [
    "#function to store as JSON \n",
    "def process_or_store(tweet):\n",
    "    y=json.dumps(tweet, indent=2)\n",
    "    j=json.loads(y)\n",
    "    parsing_json(j)\n",
    "    \n",
    "    \n",
    "#function to parse to show neccesary outputs   \n",
    "def parsing_json(k):\n",
    "    data = [k]\n",
    "    df = pd.DataFrame.from_dict(json_normalize(data), orient='columns')\n",
    "    print(df[['text','created_at','retweet_count','favorite_count']])\n",
    "        \n",
    "\n",
    "# Function to extract tweets \n",
    "def get_tweets(username):  \n",
    "        # Authorization to consumer and access keys\n",
    "        auth = tweepy.OAuthHandler(consumer_key, consumer_secret) \n",
    "        auth.set_access_token(access_key, access_secret) \n",
    "        \n",
    "        # Calling api \n",
    "        api = tweepy.API(auth) \n",
    "        tweets = api.user_timeline(screen_name=username)\n",
    "        for tweet in tweets:\n",
    "            process_or_store(tweet._json)   \n",
    "            \n",
    "get_tweets('midasIIITD')"
   ]
  },
  {
   "cell_type": "code",
   "execution_count": null,
   "metadata": {},
   "outputs": [],
   "source": []
  }
 ],
 "metadata": {
  "kernelspec": {
   "display_name": "Python 3",
   "language": "python",
   "name": "python3"
  },
  "language_info": {
   "codemirror_mode": {
    "name": "ipython",
    "version": 3
   },
   "file_extension": ".py",
   "mimetype": "text/x-python",
   "name": "python",
   "nbconvert_exporter": "python",
   "pygments_lexer": "ipython3",
   "version": "3.7.1"
  }
 },
 "nbformat": 4,
 "nbformat_minor": 2
}
